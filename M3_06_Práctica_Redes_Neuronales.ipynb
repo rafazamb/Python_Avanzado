{
  "nbformat": 4,
  "nbformat_minor": 0,
  "metadata": {
    "colab": {
      "provenance": [],
      "collapsed_sections": [
        "BZ7kB-tTseKf",
        "T7FnTUzWn9VK",
        "cJ3fpNOn1fU4"
      ]
    },
    "kernelspec": {
      "name": "python3",
      "display_name": "Python 3"
    }
  },
  "cells": [
    {
      "cell_type": "markdown",
      "metadata": {
        "id": "aFlbt3gbon-f"
      },
      "source": [
        "# **Clasificación de dígitos con Redes Neuronales**\n",
        "\n",
        "\n",
        "\n",
        "La base de datos MNIST es una gran base de datos de dígitos manuscritos que se utiliza comúnmente para la capacitación de varios sistemas de procesamiento de imágenes y las pruebas en el campo del aprendizaje automático.\n",
        "\n",
        "![MNIST](https://camo.githubusercontent.com/d440ac2eee1cb3ea33340a2c5f6f15a0878e9275/687474703a2f2f692e7974696d672e636f6d2f76692f3051493378675875422d512f687164656661756c742e6a7067)\n",
        "\n",
        "\n",
        "\n",
        "Cada imagen tiene 28 x 28 píxeles cuadrados (784 píxeles en total). Se utiliza una división estándar del conjunto de datos para evaluar y comparar modelos, en la que se utilizan 60.000 imágenes para formar un modelo y un conjunto separado de 10.000 imágenes para probarlo.\n",
        "\n"
      ]
    },
    {
      "cell_type": "markdown",
      "metadata": {
        "id": "-_aOIVIzpoiE"
      },
      "source": [
        "**Carga de datos**"
      ]
    },
    {
      "cell_type": "markdown",
      "metadata": {
        "id": "bWnIJb0CqiG1"
      },
      "source": [
        "La variable X contiene las matrices de los pixeles de los dígitos, mientras que la variable y contiene las etiquetas correspondientes a cada dígito"
      ]
    },
    {
      "cell_type": "code",
      "metadata": {
        "id": "gw-jczKfpnul",
        "colab": {
          "base_uri": "https://localhost:8080/"
        },
        "outputId": "a8957176-ab76-4621-83af-2ce6d0cdeb0b"
      },
      "source": [
        "from keras.datasets import mnist\n",
        "(X_train, y_train), (X_test, y_test) = mnist.load_data()"
      ],
      "execution_count": 1,
      "outputs": [
        {
          "output_type": "stream",
          "name": "stdout",
          "text": [
            "Downloading data from https://storage.googleapis.com/tensorflow/tf-keras-datasets/mnist.npz\n",
            "11490434/11490434 [==============================] - 0s 0us/step\n"
          ]
        }
      ]
    },
    {
      "cell_type": "code",
      "metadata": {
        "id": "yudOvotZlaeS",
        "colab": {
          "base_uri": "https://localhost:8080/"
        },
        "outputId": "8cc9414f-308f-464b-c69d-9b8da83d5b82"
      },
      "source": [
        "len(X_train)"
      ],
      "execution_count": 2,
      "outputs": [
        {
          "output_type": "execute_result",
          "data": {
            "text/plain": [
              "60000"
            ]
          },
          "metadata": {},
          "execution_count": 2
        }
      ]
    },
    {
      "cell_type": "code",
      "metadata": {
        "id": "mno3w09Ip39Q",
        "colab": {
          "base_uri": "https://localhost:8080/"
        },
        "outputId": "a2f50576-5a48-4af6-cf1d-e874a120f7e7"
      },
      "source": [
        "len(X_test)"
      ],
      "execution_count": 3,
      "outputs": [
        {
          "output_type": "execute_result",
          "data": {
            "text/plain": [
              "10000"
            ]
          },
          "metadata": {},
          "execution_count": 3
        }
      ]
    },
    {
      "cell_type": "code",
      "metadata": {
        "id": "1flLirOfp5fn",
        "colab": {
          "base_uri": "https://localhost:8080/"
        },
        "outputId": "54574405-dc1e-4193-c38d-9c21bdf92fbd"
      },
      "source": [
        "X_test[0].shape"
      ],
      "execution_count": 4,
      "outputs": [
        {
          "output_type": "execute_result",
          "data": {
            "text/plain": [
              "(28, 28)"
            ]
          },
          "metadata": {},
          "execution_count": 4
        }
      ]
    },
    {
      "cell_type": "markdown",
      "metadata": {
        "id": "dX71rEhjqwYD"
      },
      "source": [
        "Vamos a visualizar la primera imagen del conjunto de entrenamiento\n"
      ]
    },
    {
      "cell_type": "code",
      "metadata": {
        "id": "uTBgxPgHq26z",
        "colab": {
          "base_uri": "https://localhost:8080/",
          "height": 447
        },
        "outputId": "3635aa5a-77a7-4ce6-b53c-b896b1828479"
      },
      "source": [
        "import matplotlib.pyplot as plt\n",
        "plt.imshow(X_train[0], 'gray')\n",
        "print(\"Digit class:\", y_train[0])"
      ],
      "execution_count": 5,
      "outputs": [
        {
          "output_type": "stream",
          "name": "stdout",
          "text": [
            "Digit class: 5\n"
          ]
        },
        {
          "output_type": "display_data",
          "data": {
            "text/plain": [
              "<Figure size 640x480 with 1 Axes>"
            ],
            "image/png": "[encoded data removed]"
          },
          "metadata": {}
        }
      ]
    },
    {
      "cell_type": "markdown",
      "metadata": {
        "id": "y0AmAiCm12mB"
      },
      "source": [
        "Utiliza esta celda para dibujar algún otro dígito del conjunto de entrenamiento junto con su etiqueta\n"
      ]
    },
    {
      "cell_type": "code",
      "metadata": {
        "id": "EctIk_XXrA4j",
        "outputId": "69d608ef-ee3c-4bfe-b571-9db58bb3ebd1",
        "colab": {
          "base_uri": "https://localhost:8080/",
          "height": 447
        }
      },
      "source": [
        "# Introduce tu código\n",
        "plt.imshow(X_train[25], 'gray')\n",
        "print(\"Digit class:\", y_train[25])"
      ],
      "execution_count": 7,
      "outputs": [
        {
          "output_type": "stream",
          "name": "stdout",
          "text": [
            "Digit class: 2\n"
          ]
        },
        {
          "output_type": "display_data",
          "data": {
            "text/plain": [
              "<Figure size 640x480 with 1 Axes>"
            ],
            "image/png": "[encoded data removed]"
          },
          "metadata": {}
        }
      ]
    },
    {
      "cell_type": "markdown",
      "metadata": {
        "id": "nUnDJE6hrXls"
      },
      "source": [
        "Antes de construir modelos de redes neuronales vamos a normalizar los datos. Al ser una imagen en escala de grises, basta por dividir entre 255 para que todos los valores estén comprendidos en el intervalo [0,1]"
      ]
    },
    {
      "cell_type": "code",
      "metadata": {
        "id": "w58cUbs5rIor"
      },
      "source": [
        "X_train = X_train.astype('float32')/255"
      ],
      "execution_count": 8,
      "outputs": []
    },
    {
      "cell_type": "markdown",
      "metadata": {
        "id": "3hyhQ8pB17E4"
      },
      "source": [
        "Realiza la misma operación con el conjunto de test"
      ]
    },
    {
      "cell_type": "code",
      "metadata": {
        "id": "827v7wA5rk6-"
      },
      "source": [
        "# Introduce tu código\n",
        "X_test = X_test.astype('float32')/255"
      ],
      "execution_count": 9,
      "outputs": []
    },
    {
      "cell_type": "markdown",
      "metadata": {
        "id": "1hn2JzLVr3L8"
      },
      "source": [
        "Para la variable de salida, tenemos que codificarla con el método 'one hot encoding'"
      ]
    },
    {
      "cell_type": "code",
      "source": [
        "y_train"
      ],
      "metadata": {
        "id": "VptE3u8Ku711",
        "outputId": "71080844-46f1-4009-abf8-b569c9326553",
        "colab": {
          "base_uri": "https://localhost:8080/"
        }
      },
      "execution_count": 10,
      "outputs": [
        {
          "output_type": "execute_result",
          "data": {
            "text/plain": [
              "array([5, 0, 4, ..., 5, 6, 8], dtype=uint8)"
            ]
          },
          "metadata": {},
          "execution_count": 10
        }
      ]
    },
    {
      "cell_type": "code",
      "metadata": {
        "id": "ZgXDpt0zrtxe"
      },
      "source": [
        "from keras.utils import np_utils\n",
        "Y_train = np_utils.to_categorical(y_train, 10) # We have 10 classes to codify"
      ],
      "execution_count": 11,
      "outputs": []
    },
    {
      "cell_type": "code",
      "metadata": {
        "id": "8u0sMeUjrodm",
        "colab": {
          "base_uri": "https://localhost:8080/"
        },
        "outputId": "0636df1d-76a8-4514-abd5-880df4345442"
      },
      "source": [
        "y_train, Y_train"
      ],
      "execution_count": 12,
      "outputs": [
        {
          "output_type": "execute_result",
          "data": {
            "text/plain": [
              "(array([5, 0, 4, ..., 5, 6, 8], dtype=uint8),\n",
              " array([[0., 0., 0., ..., 0., 0., 0.],\n",
              "        [1., 0., 0., ..., 0., 0., 0.],\n",
              "        [0., 0., 0., ..., 0., 0., 0.],\n",
              "        ...,\n",
              "        [0., 0., 0., ..., 0., 0., 0.],\n",
              "        [0., 0., 0., ..., 0., 0., 0.],\n",
              "        [0., 0., 0., ..., 0., 1., 0.]], dtype=float32))"
            ]
          },
          "metadata": {},
          "execution_count": 12
        }
      ]
    },
    {
      "cell_type": "markdown",
      "metadata": {
        "id": "WpW79o0H1-IW"
      },
      "source": [
        "Realiza la misma operación con el conjunto de test"
      ]
    },
    {
      "cell_type": "code",
      "metadata": {
        "id": "wy-QRtElsLeI"
      },
      "source": [
        "# Introduce tu código\n",
        "Y_test = np_utils.to_categorical(y_test, 10) # We have 10 classes to codify"
      ],
      "execution_count": 13,
      "outputs": []
    },
    {
      "cell_type": "markdown",
      "metadata": {
        "id": "BZ7kB-tTseKf"
      },
      "source": [
        "## 1. Red neuronal de una capa\n",
        "Utilizamos una red secuencial, en la que cada capa es seguida de otra en formato de cadena"
      ]
    },
    {
      "cell_type": "code",
      "metadata": {
        "id": "Xos8xLLjswKV"
      },
      "source": [
        "from keras.models import Sequential\n",
        "model = Sequential()"
      ],
      "execution_count": 24,
      "outputs": []
    },
    {
      "cell_type": "markdown",
      "metadata": {
        "id": "kpJtYisk2BZV"
      },
      "source": [
        "Creamos la capa, especificando el número de entradas y salidas de la red"
      ]
    },
    {
      "cell_type": "code",
      "metadata": {
        "id": "j4ckTxIpsyfu"
      },
      "source": [
        "from keras.layers.core import Dense\n",
        "denselayer = Dense(10, input_shape=(784,))"
      ],
      "execution_count": 25,
      "outputs": []
    },
    {
      "cell_type": "markdown",
      "metadata": {
        "id": "1vjcmgzR2DDK"
      },
      "source": [
        "Añadimos la capa a la red"
      ]
    },
    {
      "cell_type": "code",
      "metadata": {
        "id": "B_bAWMDN2ErZ"
      },
      "source": [
        "model.add(denselayer)"
      ],
      "execution_count": 26,
      "outputs": []
    },
    {
      "cell_type": "markdown",
      "metadata": {
        "id": "Rx0cVSnU2Giy"
      },
      "source": [
        "Añadimos la función de activación softmax a la salida"
      ]
    },
    {
      "cell_type": "code",
      "metadata": {
        "id": "sPh8We0Yvk93"
      },
      "source": [
        "from keras.layers.core import Activation\n",
        "model.add(Activation('softmax'))"
      ],
      "execution_count": 27,
      "outputs": []
    },
    {
      "cell_type": "markdown",
      "metadata": {
        "id": "Rz7OenvL2IyP"
      },
      "source": [
        "La definición de la red está completa. Podemos ver una descripción de la misma con el siguiente comando"
      ]
    },
    {
      "cell_type": "code",
      "metadata": {
        "id": "rokoHCFEvrY7",
        "colab": {
          "base_uri": "https://localhost:8080/"
        },
        "outputId": "4c15f138-59aa-458b-9303-d063573fbf4a"
      },
      "source": [
        "model.summary()"
      ],
      "execution_count": 28,
      "outputs": [
        {
          "output_type": "stream",
          "name": "stdout",
          "text": [
            "Model: \"sequential_1\"\n",
            "_________________________________________________________________\n",
            " Layer (type)                Output Shape              Param #   \n",
            "=================================================================\n",
            " dense_1 (Dense)             (None, 10)                7850      \n",
            "                                                                 \n",
            " activation_1 (Activation)   (None, 10)                0         \n",
            "                                                                 \n",
            "=================================================================\n",
            "Total params: 7,850\n",
            "Trainable params: 7,850\n",
            "Non-trainable params: 0\n",
            "_________________________________________________________________\n"
          ]
        }
      ]
    },
    {
      "cell_type": "markdown",
      "metadata": {
        "id": "iESDmObV2Kx_"
      },
      "source": [
        "Tras definir la arquitectura el siguiente paso es compilar la red. Para este paso, hay que especificar la función de error (usaremos 'categorical crossentropy'), el método de optimización (usaremos 'stochastic gradient descent'), y la métrica de desempeño que queremos observar al finalizar"
      ]
    },
    {
      "cell_type": "code",
      "metadata": {
        "id": "sVnRHoQTwRIO"
      },
      "source": [
        "model.compile(loss='categorical_crossentropy', optimizer='sgd', metrics=['accuracy'])"
      ],
      "execution_count": 29,
      "outputs": []
    },
    {
      "cell_type": "markdown",
      "metadata": {
        "id": "mQMkXvVV2YyX"
      },
      "source": [
        "A continuación vamos a entrenar la red. Para ello, debemos transformar las matrices de píxeles en vectores, para que puedan utilizarse como entrada en la red neuronal"
      ]
    },
    {
      "cell_type": "code",
      "metadata": {
        "id": "lWKKS0Gt2PWg"
      },
      "source": [
        "trainvectors = X_train.reshape(60000, 784)"
      ],
      "execution_count": 30,
      "outputs": []
    },
    {
      "cell_type": "markdown",
      "metadata": {
        "id": "0C3r8f_02seW"
      },
      "source": [
        "Comprobamos que nuestro conjunto de entrenamiento tiene 784 columnas (características) y 60000 filas"
      ]
    },
    {
      "cell_type": "code",
      "metadata": {
        "id": "0elLMjzi2pso",
        "colab": {
          "base_uri": "https://localhost:8080/"
        },
        "outputId": "72082ea8-7208-40a4-bfd3-7bd76afd05f5"
      },
      "source": [
        "trainvectors.shape"
      ],
      "execution_count": 31,
      "outputs": [
        {
          "output_type": "execute_result",
          "data": {
            "text/plain": [
              "(60000, 784)"
            ]
          },
          "metadata": {},
          "execution_count": 31
        }
      ]
    },
    {
      "cell_type": "markdown",
      "metadata": {
        "id": "QsjyC0513BeJ"
      },
      "source": [
        "Realiza la misma operación en el conjunto de test\n"
      ]
    },
    {
      "cell_type": "code",
      "metadata": {
        "id": "x6-uR9wr238o"
      },
      "source": [
        "# Inserta tu código\n",
        "testvectors = X_test.reshape(10000, 784)"
      ],
      "execution_count": 32,
      "outputs": []
    },
    {
      "cell_type": "markdown",
      "metadata": {
        "id": "CH9nATJ73LOK"
      },
      "source": [
        "Entrenamos la red con el comando **fit**\n"
      ]
    },
    {
      "cell_type": "code",
      "metadata": {
        "id": "GhlyPCjd3KdU",
        "colab": {
          "base_uri": "https://localhost:8080/"
        },
        "outputId": "07023295-3c26-41f5-b5c0-9688cddea49c"
      },
      "source": [
        "model.fit(\n",
        "    trainvectors, # Training data\n",
        "    Y_train, # Labels of training data\n",
        "    batch_size=128, # Batch size for the optimizer algorithm\n",
        "    epochs=20, # Number of epochs to run the optimizer algorithm\n",
        "    verbose=2 # Level of verbosity of the log messages\n",
        ")"
      ],
      "execution_count": 33,
      "outputs": [
        {
          "output_type": "stream",
          "name": "stdout",
          "text": [
            "Epoch 1/20\n",
            "469/469 - 1s - loss: 1.2844 - accuracy: 0.6994 - 1s/epoch - 3ms/step\n",
            "Epoch 2/20\n",
            "469/469 - 1s - loss: 0.7174 - accuracy: 0.8379 - 909ms/epoch - 2ms/step\n",
            "Epoch 3/20\n",
            "469/469 - 1s - loss: 0.5879 - accuracy: 0.8578 - 1s/epoch - 3ms/step\n",
            "Epoch 4/20\n",
            "469/469 - 1s - loss: 0.5260 - accuracy: 0.8677 - 1s/epoch - 3ms/step\n",
            "Epoch 5/20\n",
            "469/469 - 1s - loss: 0.4884 - accuracy: 0.8743 - 983ms/epoch - 2ms/step\n",
            "Epoch 6/20\n",
            "469/469 - 1s - loss: 0.4625 - accuracy: 0.8794 - 850ms/epoch - 2ms/step\n",
            "Epoch 7/20\n",
            "469/469 - 1s - loss: 0.4433 - accuracy: 0.8828 - 860ms/epoch - 2ms/step\n",
            "Epoch 8/20\n",
            "469/469 - 1s - loss: 0.4284 - accuracy: 0.8858 - 858ms/epoch - 2ms/step\n",
            "Epoch 9/20\n",
            "469/469 - 1s - loss: 0.4162 - accuracy: 0.8881 - 872ms/epoch - 2ms/step\n",
            "Epoch 10/20\n",
            "469/469 - 1s - loss: 0.4063 - accuracy: 0.8906 - 868ms/epoch - 2ms/step\n",
            "Epoch 11/20\n",
            "469/469 - 1s - loss: 0.3977 - accuracy: 0.8924 - 852ms/epoch - 2ms/step\n",
            "Epoch 12/20\n",
            "469/469 - 1s - loss: 0.3904 - accuracy: 0.8937 - 874ms/epoch - 2ms/step\n",
            "Epoch 13/20\n",
            "469/469 - 1s - loss: 0.3840 - accuracy: 0.8952 - 863ms/epoch - 2ms/step\n",
            "Epoch 14/20\n",
            "469/469 - 1s - loss: 0.3784 - accuracy: 0.8964 - 878ms/epoch - 2ms/step\n",
            "Epoch 15/20\n",
            "469/469 - 1s - loss: 0.3733 - accuracy: 0.8977 - 876ms/epoch - 2ms/step\n",
            "Epoch 16/20\n",
            "469/469 - 1s - loss: 0.3687 - accuracy: 0.8984 - 1s/epoch - 2ms/step\n",
            "Epoch 17/20\n",
            "469/469 - 1s - loss: 0.3646 - accuracy: 0.8994 - 1s/epoch - 3ms/step\n",
            "Epoch 18/20\n",
            "469/469 - 1s - loss: 0.3608 - accuracy: 0.9003 - 1s/epoch - 3ms/step\n",
            "Epoch 19/20\n",
            "469/469 - 1s - loss: 0.3574 - accuracy: 0.9013 - 864ms/epoch - 2ms/step\n",
            "Epoch 20/20\n",
            "469/469 - 1s - loss: 0.3542 - accuracy: 0.9022 - 844ms/epoch - 2ms/step\n"
          ]
        },
        {
          "output_type": "execute_result",
          "data": {
            "text/plain": [
              "<keras.callbacks.History at 0x7fa01fcf33a0>"
            ]
          },
          "metadata": {},
          "execution_count": 33
        }
      ]
    },
    {
      "cell_type": "markdown",
      "metadata": {
        "id": "vFEwJOi9gqJc"
      },
      "source": [
        "Una vez entrenada, obtenemos las predicciones para el conjunto de test"
      ]
    },
    {
      "cell_type": "code",
      "metadata": {
        "id": "GuuPINaU4j6P",
        "outputId": "6c5a11eb-efb3-47ba-9809-62db70c0acda",
        "colab": {
          "base_uri": "https://localhost:8080/"
        }
      },
      "source": [
        "import numpy as np\n",
        "preds = np.argmax(model.predict(testvectors), axis=-1)\n",
        "# preds = model.predict_classes(testvectors) [deprecated]"
      ],
      "execution_count": 34,
      "outputs": [
        {
          "output_type": "stream",
          "name": "stdout",
          "text": [
            "313/313 [==============================] - 1s 1ms/step\n"
          ]
        }
      ]
    },
    {
      "cell_type": "markdown",
      "metadata": {
        "id": "e1HWUg2RhkuF"
      },
      "source": [
        "Comprobamos, para un ejemplo, si la predicción coincide con la realidad"
      ]
    },
    {
      "cell_type": "code",
      "metadata": {
        "id": "SfMdD0B7gvPB",
        "outputId": "7d8f0a96-1043-48e9-a011-0765b4e8ba82",
        "colab": {
          "base_uri": "https://localhost:8080/",
          "height": 447
        }
      },
      "source": [
        "plt.imshow(X_test[1], 'gray')\n",
        "print(\"Real class\", y_test[1], \"predicted class\", preds[1])"
      ],
      "execution_count": 36,
      "outputs": [
        {
          "output_type": "stream",
          "name": "stdout",
          "text": [
            "Real class 2 predicted class 2\n"
          ]
        },
        {
          "output_type": "display_data",
          "data": {
            "text/plain": [
              "<Figure size 640x480 with 1 Axes>"
            ],
            "image/png": "[encoded data removed]"
          },
          "metadata": {}
        }
      ]
    },
    {
      "cell_type": "markdown",
      "metadata": {
        "id": "IrKRkmgFm355"
      },
      "source": [
        "Veamos ejemplos en los que el modelo ha fallado"
      ]
    },
    {
      "cell_type": "code",
      "metadata": {
        "id": "L32l2spBm3Sv",
        "outputId": "271f493e-a000-42bb-ad75-8c637dbfef80",
        "colab": {
          "base_uri": "https://localhost:8080/",
          "height": 447
        }
      },
      "source": [
        "import numpy as np\n",
        "(fails,) = np.where(y_test != preds)\n",
        "idx = 2\n",
        "plt.imshow(X_test[fails[idx]], 'gray')\n",
        "print(\"Real class\", y_test[fails[idx]], \"predicted class\", preds[fails[idx]])"
      ],
      "execution_count": 40,
      "outputs": [
        {
          "output_type": "stream",
          "name": "stdout",
          "text": [
            "Real class 1 predicted class 3\n"
          ]
        },
        {
          "output_type": "display_data",
          "data": {
            "text/plain": [
              "<Figure size 640x480 with 1 Axes>"
            ],
            "image/png": "[encoded data removed]"
          },
          "metadata": {}
        }
      ]
    },
    {
      "cell_type": "markdown",
      "metadata": {
        "id": "aeaa0uf4nNCy"
      },
      "source": [
        "Medimos la precisión del clasificador"
      ]
    },
    {
      "cell_type": "code",
      "metadata": {
        "id": "WE5CLCrCnMew",
        "outputId": "1ea4e8ae-69bb-4923-db6a-013409346a68",
        "colab": {
          "base_uri": "https://localhost:8080/"
        }
      },
      "source": [
        "score = model.evaluate(testvectors, Y_test)\n",
        "print(\"Test loss\", score[0])\n",
        "print(\"Test accuracy\", score[1])"
      ],
      "execution_count": 37,
      "outputs": [
        {
          "output_type": "stream",
          "name": "stdout",
          "text": [
            "313/313 [==============================] - 1s 2ms/step - loss: 0.3368 - accuracy: 0.9082\n",
            "Test loss 0.3368217647075653\n",
            "Test accuracy 0.9082000255584717\n"
          ]
        }
      ]
    },
    {
      "cell_type": "markdown",
      "metadata": {
        "id": "T7FnTUzWn9VK"
      },
      "source": [
        "## 2. Red Neuronal de varias capas (Multilayer Perceptron)\n",
        "Añadimos capas a nuestra red neuronal, con función de activación de tipo sigmoide"
      ]
    },
    {
      "cell_type": "code",
      "metadata": {
        "id": "MvX0uqhYoIPU",
        "outputId": "8ec7075c-3b6a-4755-e7ae-330629b8d4b4",
        "colab": {
          "base_uri": "https://localhost:8080/"
        }
      },
      "source": [
        "model = Sequential()\n",
        "model.add(Dense(10, input_shape=(784,)))\n",
        "model.add(Activation('sigmoid'))\n",
        "model.add(Dense(10))\n",
        "model.add(Activation('softmax'))\n",
        "\n",
        "model.summary()"
      ],
      "execution_count": 41,
      "outputs": [
        {
          "output_type": "stream",
          "name": "stdout",
          "text": [
            "Model: \"sequential_2\"\n",
            "_________________________________________________________________\n",
            " Layer (type)                Output Shape              Param #   \n",
            "=================================================================\n",
            " dense_2 (Dense)             (None, 10)                7850      \n",
            "                                                                 \n",
            " activation_2 (Activation)   (None, 10)                0         \n",
            "                                                                 \n",
            " dense_3 (Dense)             (None, 10)                110       \n",
            "                                                                 \n",
            " activation_3 (Activation)   (None, 10)                0         \n",
            "                                                                 \n",
            "=================================================================\n",
            "Total params: 7,960\n",
            "Trainable params: 7,960\n",
            "Non-trainable params: 0\n",
            "_________________________________________________________________\n"
          ]
        }
      ]
    },
    {
      "cell_type": "markdown",
      "metadata": {
        "id": "xY8iAvmBoiTT"
      },
      "source": [
        "Compilamos y entrenamos la nueva red, evaluando el nuevo desempeño"
      ]
    },
    {
      "cell_type": "code",
      "metadata": {
        "id": "FgoniE9dokeO",
        "outputId": "2be5bef7-a122-4939-f9cc-2a106c599e32",
        "colab": {
          "base_uri": "https://localhost:8080/"
        }
      },
      "source": [
        "model.compile(loss='categorical_crossentropy', optimizer='sgd', metrics=['accuracy'])\n",
        "model.fit(\n",
        "    trainvectors, # Training data\n",
        "    Y_train, # Labels of training data\n",
        "    batch_size=128, # Batch size for the optimizer algorithm\n",
        "    epochs=20, # Number of epochs to run the optimizer algorithm\n",
        "    verbose=2 # Level of verbosity of the log messages\n",
        ")\n",
        "score = model.evaluate(testvectors, Y_test)\n",
        "print(\"Test loss\", score[0])\n",
        "print(\"Test accuracy\", score[1])"
      ],
      "execution_count": 42,
      "outputs": [
        {
          "output_type": "stream",
          "name": "stdout",
          "text": [
            "Epoch 1/20\n",
            "469/469 - 2s - loss: 2.1964 - accuracy: 0.3433 - 2s/epoch - 4ms/step\n",
            "Epoch 2/20\n",
            "469/469 - 1s - loss: 1.9549 - accuracy: 0.5597 - 1s/epoch - 3ms/step\n",
            "Epoch 3/20\n",
            "469/469 - 1s - loss: 1.7588 - accuracy: 0.6191 - 915ms/epoch - 2ms/step\n",
            "Epoch 4/20\n",
            "469/469 - 1s - loss: 1.5889 - accuracy: 0.6568 - 923ms/epoch - 2ms/step\n",
            "Epoch 5/20\n",
            "469/469 - 1s - loss: 1.4415 - accuracy: 0.6937 - 1s/epoch - 2ms/step\n",
            "Epoch 6/20\n",
            "469/469 - 1s - loss: 1.3143 - accuracy: 0.7273 - 1s/epoch - 3ms/step\n",
            "Epoch 7/20\n",
            "469/469 - 1s - loss: 1.2052 - accuracy: 0.7581 - 1s/epoch - 3ms/step\n",
            "Epoch 8/20\n",
            "469/469 - 2s - loss: 1.1120 - accuracy: 0.7811 - 2s/epoch - 4ms/step\n",
            "Epoch 9/20\n",
            "469/469 - 1s - loss: 1.0324 - accuracy: 0.7968 - 1s/epoch - 3ms/step\n",
            "Epoch 10/20\n",
            "469/469 - 1s - loss: 0.9644 - accuracy: 0.8123 - 1s/epoch - 3ms/step\n",
            "Epoch 11/20\n",
            "469/469 - 1s - loss: 0.9060 - accuracy: 0.8219 - 889ms/epoch - 2ms/step\n",
            "Epoch 12/20\n",
            "469/469 - 1s - loss: 0.8555 - accuracy: 0.8308 - 898ms/epoch - 2ms/step\n",
            "Epoch 13/20\n",
            "469/469 - 1s - loss: 0.8116 - accuracy: 0.8375 - 930ms/epoch - 2ms/step\n",
            "Epoch 14/20\n",
            "469/469 - 1s - loss: 0.7732 - accuracy: 0.8431 - 1s/epoch - 2ms/step\n",
            "Epoch 15/20\n",
            "469/469 - 2s - loss: 0.7394 - accuracy: 0.8477 - 2s/epoch - 4ms/step\n",
            "Epoch 16/20\n",
            "469/469 - 1s - loss: 0.7094 - accuracy: 0.8524 - 1s/epoch - 3ms/step\n",
            "Epoch 17/20\n",
            "469/469 - 1s - loss: 0.6828 - accuracy: 0.8556 - 1s/epoch - 3ms/step\n",
            "Epoch 18/20\n",
            "469/469 - 1s - loss: 0.6590 - accuracy: 0.8591 - 907ms/epoch - 2ms/step\n",
            "Epoch 19/20\n",
            "469/469 - 1s - loss: 0.6376 - accuracy: 0.8621 - 919ms/epoch - 2ms/step\n",
            "Epoch 20/20\n",
            "469/469 - 1s - loss: 0.6183 - accuracy: 0.8645 - 941ms/epoch - 2ms/step\n",
            "313/313 [==============================] - 1s 2ms/step - loss: 0.5909 - accuracy: 0.8728\n",
            "Test loss 0.5909271240234375\n",
            "Test accuracy 0.8727999925613403\n"
          ]
        }
      ]
    },
    {
      "cell_type": "markdown",
      "metadata": {
        "id": "Me6tP1hIpZkv"
      },
      "source": [
        "Para mejorar el desempeño de la red, vamos a incrementar el número de neuronas en las capas ocultas, utilizar la función de activación ReLU y modificar el algoritmo de optimización por *adam* (mejora del algoritmo de gradiente descendente)"
      ]
    },
    {
      "cell_type": "code",
      "metadata": {
        "id": "ds55lyyqora-"
      },
      "source": [
        "model = Sequential()\n",
        "model.add(Dense(100, input_shape=(784,)))\n",
        "model.add(Activation('relu'))\n",
        "model.add(Dense(10))\n",
        "model.add(Activation('softmax'))"
      ],
      "execution_count": 43,
      "outputs": []
    },
    {
      "cell_type": "code",
      "metadata": {
        "id": "34VRqA4cp9Vg",
        "outputId": "fc36de36-d5e8-4e96-cb54-f3d5316410fe",
        "colab": {
          "base_uri": "https://localhost:8080/"
        }
      },
      "source": [
        "model.compile(loss='categorical_crossentropy', optimizer='adam', metrics=['accuracy'])\n",
        "model.fit(\n",
        "    trainvectors, # Training data\n",
        "    Y_train, # Labels of training data\n",
        "    batch_size=128, # Batch size for the optimizer algorithm\n",
        "    epochs=20, # Number of epochs to run the optimizer algorithm\n",
        "    verbose=2 # Level of verbosity of the log messages\n",
        ")\n",
        "score = model.evaluate(testvectors, Y_test)\n",
        "print(\"Test loss\", score[0])\n",
        "print(\"Test accuracy\", score[1])"
      ],
      "execution_count": 44,
      "outputs": [
        {
          "output_type": "stream",
          "name": "stdout",
          "text": [
            "Epoch 1/20\n",
            "469/469 - 3s - loss: 0.3746 - accuracy: 0.8983 - 3s/epoch - 6ms/step\n",
            "Epoch 2/20\n",
            "469/469 - 2s - loss: 0.1782 - accuracy: 0.9493 - 2s/epoch - 4ms/step\n",
            "Epoch 3/20\n",
            "469/469 - 2s - loss: 0.1301 - accuracy: 0.9628 - 2s/epoch - 3ms/step\n",
            "Epoch 4/20\n",
            "469/469 - 2s - loss: 0.1033 - accuracy: 0.9703 - 2s/epoch - 3ms/step\n",
            "Epoch 5/20\n",
            "469/469 - 2s - loss: 0.0843 - accuracy: 0.9751 - 2s/epoch - 4ms/step\n",
            "Epoch 6/20\n",
            "469/469 - 2s - loss: 0.0700 - accuracy: 0.9795 - 2s/epoch - 4ms/step\n",
            "Epoch 7/20\n",
            "469/469 - 2s - loss: 0.0593 - accuracy: 0.9827 - 2s/epoch - 3ms/step\n",
            "Epoch 8/20\n",
            "469/469 - 2s - loss: 0.0506 - accuracy: 0.9854 - 2s/epoch - 4ms/step\n",
            "Epoch 9/20\n",
            "469/469 - 2s - loss: 0.0437 - accuracy: 0.9875 - 2s/epoch - 5ms/step\n",
            "Epoch 10/20\n",
            "469/469 - 2s - loss: 0.0377 - accuracy: 0.9889 - 2s/epoch - 3ms/step\n",
            "Epoch 11/20\n",
            "469/469 - 2s - loss: 0.0326 - accuracy: 0.9912 - 2s/epoch - 3ms/step\n",
            "Epoch 12/20\n",
            "469/469 - 2s - loss: 0.0284 - accuracy: 0.9923 - 2s/epoch - 3ms/step\n",
            "Epoch 13/20\n",
            "469/469 - 2s - loss: 0.0252 - accuracy: 0.9931 - 2s/epoch - 3ms/step\n",
            "Epoch 14/20\n",
            "469/469 - 2s - loss: 0.0209 - accuracy: 0.9948 - 2s/epoch - 3ms/step\n",
            "Epoch 15/20\n",
            "469/469 - 2s - loss: 0.0183 - accuracy: 0.9955 - 2s/epoch - 3ms/step\n",
            "Epoch 16/20\n",
            "469/469 - 3s - loss: 0.0167 - accuracy: 0.9960 - 3s/epoch - 5ms/step\n",
            "Epoch 17/20\n",
            "469/469 - 2s - loss: 0.0143 - accuracy: 0.9966 - 2s/epoch - 4ms/step\n",
            "Epoch 18/20\n",
            "469/469 - 2s - loss: 0.0115 - accuracy: 0.9975 - 2s/epoch - 3ms/step\n",
            "Epoch 19/20\n",
            "469/469 - 2s - loss: 0.0109 - accuracy: 0.9977 - 2s/epoch - 3ms/step\n",
            "Epoch 20/20\n",
            "469/469 - 2s - loss: 0.0093 - accuracy: 0.9982 - 2s/epoch - 3ms/step\n",
            "313/313 [==============================] - 1s 2ms/step - loss: 0.0781 - accuracy: 0.9775\n",
            "Test loss 0.07812778651714325\n",
            "Test accuracy 0.9775000214576721\n"
          ]
        }
      ]
    },
    {
      "cell_type": "markdown",
      "metadata": {
        "id": "kUz5iGwgqGhh"
      },
      "source": [
        "Define una nueva red con dos capas ocultas, cada una con 512 neuronas y una función de activación ReLU. Para la salida, utiliza la función de activación *softmax*. Utiliza *adam* como algoritmo de optimización y compara el desempeño de esta nueva red con los resultados anteriores"
      ]
    },
    {
      "cell_type": "code",
      "metadata": {
        "id": "65b5VIVsp-GC",
        "outputId": "43958030-1309-4f1a-b9de-c5a5c66093ec",
        "colab": {
          "base_uri": "https://localhost:8080/"
        }
      },
      "source": [
        "# Introduce tu código\n",
        "model = Sequential()\n",
        "model.add(Dense(512, input_shape=(784,)))\n",
        "model.add(Activation('relu'))\n",
        "model.add(Dense(512))\n",
        "model.add(Activation('relu'))\n",
        "model.add(Dense(10))\n",
        "model.add(Activation('softmax'))\n",
        "\n",
        "model.compile(loss='categorical_crossentropy', optimizer='adam', metrics=['accuracy'])\n",
        "model.fit(\n",
        "    trainvectors, # Training data\n",
        "    Y_train, # Labels of training data\n",
        "    batch_size=128, # Batch size for the optimizer algorithm\n",
        "    epochs=20, # Number of epochs to run the optimizer algorithm\n",
        "    verbose=2 # Level of verbosity of the log messages\n",
        ")\n",
        "score = model.evaluate(testvectors, Y_test)\n",
        "print(\"Test loss\", score[0])\n",
        "print(\"Test accuracy\", score[1])"
      ],
      "execution_count": 46,
      "outputs": [
        {
          "output_type": "stream",
          "name": "stdout",
          "text": [
            "Epoch 1/20\n",
            "469/469 - 8s - loss: 0.2178 - accuracy: 0.9365 - 8s/epoch - 17ms/step\n",
            "Epoch 2/20\n",
            "469/469 - 8s - loss: 0.0804 - accuracy: 0.9749 - 8s/epoch - 17ms/step\n",
            "Epoch 3/20\n",
            "469/469 - 7s - loss: 0.0500 - accuracy: 0.9838 - 7s/epoch - 15ms/step\n",
            "Epoch 4/20\n",
            "469/469 - 8s - loss: 0.0365 - accuracy: 0.9882 - 8s/epoch - 17ms/step\n",
            "Epoch 5/20\n",
            "469/469 - 8s - loss: 0.0285 - accuracy: 0.9907 - 8s/epoch - 17ms/step\n",
            "Epoch 6/20\n",
            "469/469 - 7s - loss: 0.0221 - accuracy: 0.9927 - 7s/epoch - 14ms/step\n",
            "Epoch 7/20\n",
            "469/469 - 8s - loss: 0.0194 - accuracy: 0.9933 - 8s/epoch - 17ms/step\n",
            "Epoch 8/20\n",
            "469/469 - 7s - loss: 0.0142 - accuracy: 0.9954 - 7s/epoch - 14ms/step\n",
            "Epoch 9/20\n",
            "469/469 - 8s - loss: 0.0179 - accuracy: 0.9944 - 8s/epoch - 17ms/step\n",
            "Epoch 10/20\n",
            "469/469 - 8s - loss: 0.0154 - accuracy: 0.9952 - 8s/epoch - 16ms/step\n",
            "Epoch 11/20\n",
            "469/469 - 8s - loss: 0.0123 - accuracy: 0.9962 - 8s/epoch - 16ms/step\n",
            "Epoch 12/20\n",
            "469/469 - 8s - loss: 0.0100 - accuracy: 0.9968 - 8s/epoch - 17ms/step\n",
            "Epoch 13/20\n",
            "469/469 - 7s - loss: 0.0105 - accuracy: 0.9966 - 7s/epoch - 14ms/step\n",
            "Epoch 14/20\n",
            "469/469 - 9s - loss: 0.0144 - accuracy: 0.9951 - 9s/epoch - 19ms/step\n",
            "Epoch 15/20\n",
            "469/469 - 7s - loss: 0.0079 - accuracy: 0.9974 - 7s/epoch - 15ms/step\n",
            "Epoch 16/20\n",
            "469/469 - 8s - loss: 0.0032 - accuracy: 0.9991 - 8s/epoch - 17ms/step\n",
            "Epoch 17/20\n",
            "469/469 - 8s - loss: 0.0140 - accuracy: 0.9951 - 8s/epoch - 17ms/step\n",
            "Epoch 18/20\n",
            "469/469 - 7s - loss: 0.0088 - accuracy: 0.9973 - 7s/epoch - 14ms/step\n",
            "Epoch 19/20\n",
            "469/469 - 8s - loss: 0.0064 - accuracy: 0.9981 - 8s/epoch - 17ms/step\n",
            "Epoch 20/20\n",
            "469/469 - 7s - loss: 0.0052 - accuracy: 0.9984 - 7s/epoch - 14ms/step\n",
            "313/313 [==============================] - 1s 3ms/step - loss: 0.0968 - accuracy: 0.9827\n",
            "Test loss 0.09683036804199219\n",
            "Test accuracy 0.982699990272522\n"
          ]
        }
      ]
    },
    {
      "cell_type": "markdown",
      "metadata": {
        "id": "V5Qs26nqqcpT"
      },
      "source": [
        "A continuación, vamos a introducir regularización con el método **dropout**. En este ejemplo, creamos una capa dropout, que recibe las salidas de la capa anterior y las asigna a 0 con una probabilidad del 30%\n"
      ]
    },
    {
      "cell_type": "code",
      "metadata": {
        "id": "6Kkwk7KCquvr",
        "outputId": "43a712ef-b5c5-44b1-99d9-239f6529ea90",
        "colab": {
          "base_uri": "https://localhost:8080/"
        }
      },
      "source": [
        "from keras.layers.core import Dropout\n",
        "model = Sequential()\n",
        "model.add(Dense(512, input_shape=(784,)))\n",
        "model.add(Activation('relu'))\n",
        "model.add(Dropout(0.3))\n",
        "model.add(Dense(10))\n",
        "model.add(Activation('softmax'))\n",
        "\n",
        "model.compile(loss='categorical_crossentropy', optimizer='adam', metrics=[\"accuracy\"])\n",
        "model.fit(\n",
        "    trainvectors, # Training data\n",
        "    Y_train, # Labels of training data\n",
        "    batch_size=128, # Batch size for the optimizer algorithm\n",
        "    epochs=20, # Number of epochs to run the optimizer algorithm\n",
        "    verbose=2 # Level of verbosity of the log messages\n",
        ")\n",
        "score = model.evaluate(testvectors, Y_test)\n",
        "print(\"Test loss\", score[0])\n",
        "print(\"Test accuracy\", score[1])"
      ],
      "execution_count": 47,
      "outputs": [
        {
          "output_type": "stream",
          "name": "stdout",
          "text": [
            "Epoch 1/20\n",
            "469/469 - 6s - loss: 0.2936 - accuracy: 0.9158 - 6s/epoch - 12ms/step\n",
            "Epoch 2/20\n",
            "469/469 - 6s - loss: 0.1303 - accuracy: 0.9610 - 6s/epoch - 12ms/step\n",
            "Epoch 3/20\n",
            "469/469 - 5s - loss: 0.0921 - accuracy: 0.9725 - 5s/epoch - 10ms/step\n",
            "Epoch 4/20\n",
            "469/469 - 6s - loss: 0.0715 - accuracy: 0.9782 - 6s/epoch - 12ms/step\n",
            "Epoch 5/20\n",
            "469/469 - 6s - loss: 0.0566 - accuracy: 0.9822 - 6s/epoch - 12ms/step\n",
            "Epoch 6/20\n",
            "469/469 - 5s - loss: 0.0484 - accuracy: 0.9850 - 5s/epoch - 11ms/step\n",
            "Epoch 7/20\n",
            "469/469 - 5s - loss: 0.0392 - accuracy: 0.9878 - 5s/epoch - 11ms/step\n",
            "Epoch 8/20\n",
            "469/469 - 5s - loss: 0.0359 - accuracy: 0.9890 - 5s/epoch - 10ms/step\n",
            "Epoch 9/20\n",
            "469/469 - 6s - loss: 0.0297 - accuracy: 0.9906 - 6s/epoch - 12ms/step\n",
            "Epoch 10/20\n",
            "469/469 - 5s - loss: 0.0268 - accuracy: 0.9913 - 5s/epoch - 10ms/step\n",
            "Epoch 11/20\n",
            "469/469 - 5s - loss: 0.0246 - accuracy: 0.9923 - 5s/epoch - 11ms/step\n",
            "Epoch 12/20\n",
            "469/469 - 5s - loss: 0.0206 - accuracy: 0.9935 - 5s/epoch - 11ms/step\n",
            "Epoch 13/20\n",
            "469/469 - 5s - loss: 0.0203 - accuracy: 0.9933 - 5s/epoch - 10ms/step\n",
            "Epoch 14/20\n",
            "469/469 - 6s - loss: 0.0165 - accuracy: 0.9948 - 6s/epoch - 12ms/step\n",
            "Epoch 15/20\n",
            "469/469 - 5s - loss: 0.0183 - accuracy: 0.9937 - 5s/epoch - 10ms/step\n",
            "Epoch 16/20\n",
            "469/469 - 5s - loss: 0.0168 - accuracy: 0.9945 - 5s/epoch - 11ms/step\n",
            "Epoch 17/20\n",
            "469/469 - 5s - loss: 0.0130 - accuracy: 0.9959 - 5s/epoch - 11ms/step\n",
            "Epoch 18/20\n",
            "469/469 - 5s - loss: 0.0129 - accuracy: 0.9958 - 5s/epoch - 10ms/step\n",
            "Epoch 19/20\n",
            "469/469 - 6s - loss: 0.0129 - accuracy: 0.9957 - 6s/epoch - 12ms/step\n",
            "Epoch 20/20\n",
            "469/469 - 5s - loss: 0.0115 - accuracy: 0.9964 - 5s/epoch - 10ms/step\n",
            "313/313 [==============================] - 1s 3ms/step - loss: 0.0662 - accuracy: 0.9825\n",
            "Test loss 0.0661926344037056\n",
            "Test accuracy 0.9825000166893005\n"
          ]
        }
      ]
    },
    {
      "cell_type": "markdown",
      "metadata": {
        "id": "cJ3fpNOn1fU4"
      },
      "source": [
        "## 3. Redes Neuronales Convolucionales\n",
        "Para mejorar el desempeño del clasificador de imágenes, necesitamos redes que consideren los datos de entrada como imágenes, y tengan en cuenta la relación entre los píxeles. Las redes convolutivas son la mejor manera de hacer esto"
      ]
    },
    {
      "cell_type": "markdown",
      "metadata": {
        "id": "mb_LYVPn1zvv"
      },
      "source": [
        "Para las redes convolucionales, necesitamos organizar los datos en forma de tensores, con las siguientes dimensiones:\n",
        "- Índice de la imagen (por ejemplo, la 3ª imagen del dataset)\n",
        "- Índice de la fila\n",
        "- Índice de la columna\n",
        "- Índice del canal RGB\n",
        "\n",
        "En nuestro caso, tenemos imágenes en blanco y negro de 28 filas x 28 columnas"
      ]
    },
    {
      "cell_type": "code",
      "metadata": {
        "id": "Q5A_bOyH1hoK"
      },
      "source": [
        "traintensor = X_train.reshape(60000, 28, 28, 1)\n",
        "testtensor = X_test.reshape(10000, 28, 28, 1)"
      ],
      "execution_count": 48,
      "outputs": []
    },
    {
      "cell_type": "markdown",
      "metadata": {
        "id": "f9E4Ku3D2Tol"
      },
      "source": [
        "Cuando definimos una red convolucional, las capas de convolución y pooling trabajan conjuntamente. La manera más habitual de utilizar estas capas es siguiendo el siguiente patrón:\n",
        "- Una capa convolucional con función de activación ReLU\n",
        "- Una capa pooling\n",
        "- Dropout (si queremos introducir regularización)\n",
        "\n",
        "Definimos por tanto nuestra red:"
      ]
    },
    {
      "cell_type": "code",
      "metadata": {
        "id": "Vn3dcxz72SVD"
      },
      "source": [
        "from keras.layers.convolutional import Convolution2D, MaxPooling2D\n",
        "\n",
        "img_rows = 28\n",
        "img_cols = 28\n",
        "kernel_size = 3 # Size of the kernel for the convolution layers\n",
        "pool_size = 2 # Size of the pooling region for the pooling layers\n",
        "\n",
        "model = Sequential()\n",
        "\n",
        "model.add(Convolution2D(32, # Number convolution channels to generate\n",
        "                        (kernel_size, kernel_size), # Size of convolution kernels\n",
        "                        padding='valid', # Strategy to deal with borders\n",
        "                        input_shape=(img_rows, img_cols, 1))) # Size = image rows x image columns x channels\n",
        "model.add(Activation('relu'))\n",
        "model.add(MaxPooling2D(pool_size=(pool_size, pool_size)))\n",
        "model.add(Dropout(0.25))"
      ],
      "execution_count": 49,
      "outputs": []
    },
    {
      "cell_type": "markdown",
      "metadata": {
        "id": "jrPlnbbY20mO"
      },
      "source": [
        "Tras las capas convolucionales+pooling, tenemos que transformar el tensor a un vector, de manera que la salida final de la red sea el número de clases (en nuestro caso 10). Para ello creamos una capa de tipo **Flatten**, seguida de una capa de tipo **Dense**"
      ]
    },
    {
      "cell_type": "code",
      "metadata": {
        "id": "2aJ1V9Dm2xXI"
      },
      "source": [
        "from keras.layers.core import Flatten\n",
        "model.add(Flatten())\n",
        "model.add(Dense(10))\n",
        "model.add(Activation('softmax'))"
      ],
      "execution_count": 50,
      "outputs": []
    },
    {
      "cell_type": "markdown",
      "metadata": {
        "id": "CAe8UwXn3GbI"
      },
      "source": [
        "A continuación, compilamos y entrenamos nuestra red convolucional"
      ]
    },
    {
      "cell_type": "code",
      "metadata": {
        "id": "EFxQ1OFX3Enz",
        "outputId": "f6a6789b-2981-4efb-e18c-70875592ccf6",
        "colab": {
          "base_uri": "https://localhost:8080/"
        }
      },
      "source": [
        "model.compile(loss='categorical_crossentropy', optimizer='adam', metrics=[\"accuracy\"])\n",
        "model.fit(\n",
        "    traintensor, # Training data\n",
        "    Y_train, # Labels of training data\n",
        "    batch_size=128, # Batch size for the optimizer algorithm\n",
        "    epochs=20, # Number of epochs to run the optimizer algorithm\n",
        "    verbose=2 # Level of verbosity of the log messages\n",
        ")\n",
        "score = model.evaluate(testtensor, Y_test)\n",
        "print(\"Test loss\", score[0])\n",
        "print(\"Test accuracy\", score[1])"
      ],
      "execution_count": 51,
      "outputs": [
        {
          "output_type": "stream",
          "name": "stdout",
          "text": [
            "Epoch 1/20\n",
            "469/469 - 27s - loss: 0.3637 - accuracy: 0.9028 - 27s/epoch - 59ms/step\n",
            "Epoch 2/20\n",
            "469/469 - 28s - loss: 0.1404 - accuracy: 0.9608 - 28s/epoch - 60ms/step\n",
            "Epoch 3/20\n",
            "469/469 - 30s - loss: 0.1010 - accuracy: 0.9714 - 30s/epoch - 65ms/step\n",
            "Epoch 4/20\n",
            "469/469 - 33s - loss: 0.0842 - accuracy: 0.9758 - 33s/epoch - 69ms/step\n",
            "Epoch 5/20\n",
            "469/469 - 28s - loss: 0.0744 - accuracy: 0.9778 - 28s/epoch - 61ms/step\n",
            "Epoch 6/20\n",
            "469/469 - 32s - loss: 0.0670 - accuracy: 0.9797 - 32s/epoch - 68ms/step\n",
            "Epoch 7/20\n",
            "469/469 - 31s - loss: 0.0610 - accuracy: 0.9818 - 31s/epoch - 65ms/step\n",
            "Epoch 8/20\n",
            "469/469 - 27s - loss: 0.0568 - accuracy: 0.9827 - 27s/epoch - 58ms/step\n",
            "Epoch 9/20\n",
            "469/469 - 28s - loss: 0.0524 - accuracy: 0.9846 - 28s/epoch - 60ms/step\n",
            "Epoch 10/20\n",
            "469/469 - 27s - loss: 0.0498 - accuracy: 0.9849 - 27s/epoch - 58ms/step\n",
            "Epoch 11/20\n",
            "469/469 - 26s - loss: 0.0473 - accuracy: 0.9854 - 26s/epoch - 56ms/step\n",
            "Epoch 12/20\n",
            "469/469 - 28s - loss: 0.0441 - accuracy: 0.9865 - 28s/epoch - 60ms/step\n",
            "Epoch 13/20\n",
            "469/469 - 29s - loss: 0.0412 - accuracy: 0.9873 - 29s/epoch - 61ms/step\n",
            "Epoch 14/20\n",
            "469/469 - 26s - loss: 0.0393 - accuracy: 0.9880 - 26s/epoch - 56ms/step\n",
            "Epoch 15/20\n",
            "469/469 - 26s - loss: 0.0382 - accuracy: 0.9883 - 26s/epoch - 56ms/step\n",
            "Epoch 16/20\n",
            "469/469 - 26s - loss: 0.0369 - accuracy: 0.9883 - 26s/epoch - 56ms/step\n",
            "Epoch 17/20\n",
            "469/469 - 27s - loss: 0.0351 - accuracy: 0.9887 - 27s/epoch - 59ms/step\n",
            "Epoch 18/20\n",
            "469/469 - 26s - loss: 0.0329 - accuracy: 0.9902 - 26s/epoch - 56ms/step\n",
            "Epoch 19/20\n",
            "469/469 - 26s - loss: 0.0325 - accuracy: 0.9898 - 26s/epoch - 56ms/step\n",
            "Epoch 20/20\n",
            "469/469 - 26s - loss: 0.0306 - accuracy: 0.9902 - 26s/epoch - 56ms/step\n",
            "313/313 [==============================] - 2s 6ms/step - loss: 0.0474 - accuracy: 0.9850\n",
            "Test loss 0.04735482111573219\n",
            "Test accuracy 0.9850000143051147\n"
          ]
        }
      ]
    },
    {
      "cell_type": "markdown",
      "metadata": {
        "id": "btCUnllU33Vt"
      },
      "source": [
        "Construye y entrena una CNN con las siguientes capas:\n",
        "- Dos capas convolucionales con 32 kernels de tamaño 3x3 y función ReLU\n",
        "- Una Capa MaxPooling de tamaño 2\n",
        "- Un 25% de DropOout\n",
        "- Una capa de tipo Flatten\n",
        "- Una capa densa con 128 neuronas y función ReLU\n",
        "- Un 50% de dropout\n",
        "- Una capa de salida densa con función de activación softmax\n",
        "\n",
        "¿Hay mejora en el desempeño?"
      ]
    },
    {
      "cell_type": "code",
      "metadata": {
        "id": "x1SLr_E_3KrJ"
      },
      "source": [
        "# Introduce tu código\n",
        "\n",
        "img_rows = 28\n",
        "img_cols = 28\n",
        "kernel_size = 3 # Size of the kernel for the convolution layers\n",
        "pool_size = 2 # Size of the pooling region for the pooling layers\n",
        "\n",
        "model = Sequential()\n",
        "\n",
        "model.add(Convolution2D(32, # Number convolution channels to generate\n",
        "                        (kernel_size, kernel_size), # Size of convolution kernels\n",
        "                        padding='valid', # Strategy to deal with borders\n",
        "                        input_shape=(img_rows, img_cols, 1))) # Size = image rows x image columns x channels\n",
        "model.add(Activation('relu'))\n",
        "\n",
        "model.add(Convolution2D(32, # Number convolution channels to generate\n",
        "                        (kernel_size, kernel_size), # Size of convolution kernels\n",
        "                        padding='valid', # Strategy to deal with borders\n",
        "                        input_shape=(img_rows, img_cols, 1))) # Size = image rows x image columns x channels\n",
        "model.add(Activation('relu'))\n",
        "\n",
        "model.add(MaxPooling2D(pool_size=(pool_size, pool_size)))\n",
        "\n",
        "model.add(Dropout(0.25))\n",
        "\n",
        "model.add(Flatten())\n",
        "model.add(Dense(128))\n",
        "model.add(Activation('relu'))\n",
        "model.add(Dropout(0.50))\n",
        "model.add(Dense(10))\n",
        "model.add(Activation('softmax'))\n",
        "\n",
        "model.compile(loss='categorical_crossentropy', optimizer='adam', metrics=[\"accuracy\"])\n",
        "model.fit(\n",
        "    traintensor, # Training data\n",
        "    Y_train, # Labels of training data\n",
        "    batch_size=128, # Batch size for the optimizer algorithm\n",
        "    epochs=20, # Number of epochs to run the optimizer algorithm\n",
        "    verbose=2 # Level of verbosity of the log messages\n",
        ")\n",
        "score = model.evaluate(testtensor, Y_test)\n",
        "print(\"Test loss\", score[0])\n",
        "print(\"Test accuracy\", score[1])"
      ],
      "execution_count": null,
      "outputs": []
    },
    {
      "cell_type": "markdown",
      "metadata": {
        "id": "n5gc2Dge4mBW"
      },
      "source": [
        "Por último, probamos la arquitectura **[LeNet](http://yann.lecun.com/exdb/lenet/)**, cuya efectividad ha sido demostrada en este caso particular. Las capas que utiliza son las siguientes:\n",
        "- Capa convolucional con 20 kernels de tamaño 5 y función ReLU\n",
        "- MaxPooling de tamaño 2 y stride 2\n",
        "- 25% Dropout\n",
        "- Capa convolucional con 50 kernels de tamaño 5 y función ReLU\n",
        "- MaxPooling de tamaño 2 y stride 2\n",
        "- 25% Dropout\n",
        "- Capa Flatten\n",
        "- Capa Densa con 500 neuronas y función ReLU\n",
        "- 50% Dropout\n",
        "- Capa Densa con función softmax\n"
      ]
    },
    {
      "cell_type": "code",
      "metadata": {
        "id": "Zb34AACG4_zM",
        "outputId": "e8cfdd1f-9426-43d9-a78b-ac975afa3552",
        "colab": {
          "base_uri": "https://localhost:8080/"
        }
      },
      "source": [
        "img_rows = 28\n",
        "img_cols = 28\n",
        "\n",
        "model = Sequential()\n",
        "\n",
        "model.add(Convolution2D(20, (5, 5),\n",
        "                        padding='valid',\n",
        "                        input_shape=(img_rows, img_cols, 1)))\n",
        "model.add(Activation('relu'))\n",
        "model.add(MaxPooling2D(pool_size=(2, 2), strides=(2, 2)))\n",
        "model.add(Dropout(0.25))\n",
        "model.add(Convolution2D(50, (5, 5)))\n",
        "model.add(Activation('relu'))\n",
        "model.add(MaxPooling2D(pool_size=(2, 2), strides=(2, 2)))\n",
        "model.add(Dropout(0.25))\n",
        "model.add(Flatten())\n",
        "model.add(Dense(500))\n",
        "model.add(Activation('relu'))\n",
        "model.add(Dropout(0.5))\n",
        "model.add(Dense(10))\n",
        "model.add(Activation('softmax'))\n",
        "\n",
        "model.compile(loss='categorical_crossentropy', optimizer='adam', metrics=[\"accuracy\"])\n",
        "model.fit(\n",
        "    traintensor, # Training data\n",
        "    Y_train, # Labels of training data\n",
        "    batch_size=128, # Batch size for the optimizer algorithm\n",
        "    epochs=20, # Number of epochs to run the optimizer algorithm\n",
        "    verbose=1 # Level of verbosity of the log messages\n",
        ")\n",
        "score = model.evaluate(testtensor, Y_test)\n",
        "print(\"Test loss\", score[0])\n",
        "print(\"Test accuracy\", score[1])"
      ],
      "execution_count": null,
      "outputs": [
        {
          "output_type": "stream",
          "name": "stdout",
          "text": [
            "Epoch 1/20\n",
            "469/469 [==============================] - 63s 132ms/step - loss: 0.2700 - accuracy: 0.9163\n",
            "Epoch 2/20\n",
            "469/469 [==============================] - 61s 130ms/step - loss: 0.0733 - accuracy: 0.9774\n",
            "Epoch 3/20\n",
            "469/469 [==============================] - 59s 127ms/step - loss: 0.0549 - accuracy: 0.9836\n",
            "Epoch 4/20\n",
            "469/469 [==============================] - 61s 130ms/step - loss: 0.0438 - accuracy: 0.9867\n",
            "Epoch 5/20\n",
            "469/469 [==============================] - 60s 128ms/step - loss: 0.0377 - accuracy: 0.9880\n",
            "Epoch 6/20\n",
            " 14/469 [..............................] - ETA: 1:24 - loss: 0.0370 - accuracy: 0.9894"
          ]
        }
      ]
    }
  ]
}