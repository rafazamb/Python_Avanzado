{
 "cells": [
  {
   "cell_type": "markdown",
   "id": "84b20ba9",
   "metadata": {},
   "source": [
    "\n",
    "# Regresión Lineal"
   ]
  },
  {
   "cell_type": "markdown",
   "id": "1ef903e8",
   "metadata": {},
   "source": [
    "La librería `sklearn` permite implementar una gran variedad de modelos de Machine Learning, entre  ellos, la regresión lineal"
   ]
  },
  {
   "cell_type": "code",
   "execution_count": null,
   "id": "b7644fce",
   "metadata": {},
   "outputs": [],
   "source": []
  },
  {
   "cell_type": "markdown",
   "id": "scientific-front",
   "metadata": {},
   "source": [
    "Se ha hecho una encuesta a 20 personas, preguntándoles por sus ingresos anuales en miles de euros y su nivel de felicidad en una escala del 0 al 10.   \n",
    "Los resultados obtenidos se guardan en las listas `x` (ingresos) e `y` (felicidad)\n",
    "\n",
    "```Python\n",
    "x = [25.2, 15.6, 26, 24, 39.2, 17.6, 3.6, 24, 10, 8.8, 35.2, 22.8, 31.6, 6, 11.2, 5.2, 22.4, 20.4, 31.2, 19.6]\n",
    "y = [10, 5, 9, 8, 10, 8, 1, 9, 3, 3, 10, 5, 10, 2, 4, 4, 9, 6, 10, 7]\n",
    "```"
   ]
  },
  {
   "cell_type": "code",
   "execution_count": null,
   "id": "8ad65e76",
   "metadata": {},
   "outputs": [],
   "source": []
  },
  {
   "cell_type": "code",
   "execution_count": null,
   "id": "d7e7041c",
   "metadata": {},
   "outputs": [],
   "source": []
  },
  {
   "cell_type": "code",
   "execution_count": null,
   "id": "3933bed0",
   "metadata": {},
   "outputs": [],
   "source": []
  },
  {
   "cell_type": "code",
   "execution_count": null,
   "id": "db3fa47c",
   "metadata": {},
   "outputs": [],
   "source": []
  },
  {
   "cell_type": "code",
   "execution_count": null,
   "id": "598ef992",
   "metadata": {},
   "outputs": [],
   "source": []
  },
  {
   "cell_type": "code",
   "execution_count": null,
   "id": "5146ba6a",
   "metadata": {},
   "outputs": [],
   "source": [
    "def plot_all(w0,w1):\n",
    "\n",
    "    plt.figure(figsize=(8, 4))\n",
    "    ax = plt.axes()\n",
    "    ax.scatter(x, y)\n",
    "    ax.set_ylim([0,12])\n",
    "    ax.set_xlim([0,45])\n",
    "    ax.set_xlabel('Ingresos')\n",
    "    ax.set_ylabel('Felicidad')\n",
    "    e = np.linspace(0,45,len(x))\n",
    "    z = w0+w1*e\n",
    "\n",
    "    plt.plot(e, z, '-r', label='h(x)='+str(round(w0,2))+' + '+ str(round(w1,2))+'x')\n",
    "    plt.legend(loc='upper left')\n",
    "    plt.show()"
   ]
  },
  {
   "cell_type": "code",
   "execution_count": null,
   "id": "8c74c24e",
   "metadata": {},
   "outputs": [],
   "source": []
  },
  {
   "cell_type": "markdown",
   "id": "ce47d836",
   "metadata": {},
   "source": [
    "Por último, añadimos una nueva variable: el estado civil de los encuestados: S (soltero/a), C (casado/a), V (viudo/a):   \n",
    "`['S','C','S','V','C','S','C','S','C','C','V','S','C','C','V','C','S','V','C','S']`"
   ]
  },
  {
   "cell_type": "code",
   "execution_count": null,
   "id": "3ea1fa5f",
   "metadata": {},
   "outputs": [],
   "source": []
  },
  {
   "cell_type": "code",
   "execution_count": null,
   "id": "c04a90f3",
   "metadata": {},
   "outputs": [],
   "source": []
  },
  {
   "cell_type": "markdown",
   "id": "235d0c7c",
   "metadata": {},
   "source": [
    "Necesito convertir la variable categórica a numérica. Probemos con un one-hot-encoding"
   ]
  },
  {
   "cell_type": "code",
   "execution_count": null,
   "id": "23d3fef9",
   "metadata": {},
   "outputs": [],
   "source": []
  },
  {
   "cell_type": "markdown",
   "id": "3d40576c",
   "metadata": {},
   "source": [
    "En regresión lineal, evitamos tener columnas que sean combinaciones lineales. Por tanto, descartamos una de las columnas binarias"
   ]
  },
  {
   "cell_type": "code",
   "execution_count": null,
   "id": "cd88f129",
   "metadata": {},
   "outputs": [],
   "source": []
  },
  {
   "cell_type": "code",
   "execution_count": null,
   "id": "b83c59e0",
   "metadata": {},
   "outputs": [],
   "source": []
  },
  {
   "cell_type": "code",
   "execution_count": null,
   "id": "025df9dc",
   "metadata": {},
   "outputs": [],
   "source": []
  },
  {
   "cell_type": "code",
   "execution_count": null,
   "id": "d4f58c36",
   "metadata": {},
   "outputs": [],
   "source": []
  },
  {
   "cell_type": "code",
   "execution_count": null,
   "id": "8b0d63d2",
   "metadata": {},
   "outputs": [],
   "source": []
  },
  {
   "cell_type": "markdown",
   "id": "8775ae58",
   "metadata": {},
   "source": [
    "Felicidad = 1.09 + 0.26xIngresos + 1.19xSoltero -0.13xCasado"
   ]
  },
  {
   "cell_type": "markdown",
   "id": "e7dd91b2",
   "metadata": {},
   "source": [
    "Predice la felicidad de un hombre casado con ingresos de 14.000€"
   ]
  },
  {
   "cell_type": "code",
   "execution_count": null,
   "id": "71955afc",
   "metadata": {},
   "outputs": [],
   "source": []
  },
  {
   "cell_type": "markdown",
   "id": "e3cc9809",
   "metadata": {},
   "source": [
    "¿Aumentaría su felicidad si es soltero o viudo?"
   ]
  },
  {
   "cell_type": "code",
   "execution_count": null,
   "id": "27cd3dcf",
   "metadata": {},
   "outputs": [],
   "source": []
  },
  {
   "cell_type": "code",
   "execution_count": null,
   "id": "25904964",
   "metadata": {},
   "outputs": [],
   "source": []
  },
  {
   "attachments": {
    "image.png": {
     "image/png": "[encoded data removed]"
    }
   },
   "cell_type": "markdown",
   "id": "85042bbe",
   "metadata": {},
   "source": [
    "![image.png](attachment:image.png)"
   ]
  },
  {
   "cell_type": "markdown",
   "id": "d161995d",
   "metadata": {},
   "source": [
    "## Ejemplo: Predicción de precio de casas"
   ]
  },
  {
   "cell_type": "markdown",
   "id": "ae5b583d",
   "metadata": {},
   "source": [
    "Queremos predecir los precios de una serie de casas, a partir de las siguientes variables:\n",
    "\n",
    "- Avg. Area Income: Renta media de los residentes de la ciudad donde está la casa\n",
    "- Avg. Area House Age: media de antigüedad de las casas de esa ciudad\n",
    "- Avg. Area Number of Rooms: Número medio de habitaciones en las casas de esa ciudad\n",
    "- Avg Area Number of Bedrooms: Número medio de dormitorios en las casas de la ciudad\n",
    "- Area Population: Población de la ciudad\n",
    "- Price: Precio de la casa (variable objetivo)\n",
    "- Address: Dirección"
   ]
  },
  {
   "cell_type": "code",
   "execution_count": null,
   "id": "cf93d8ec",
   "metadata": {},
   "outputs": [],
   "source": [
    "import pandas as pd\n",
    "import numpy as np\n",
    "import matplotlib.pyplot as plt\n",
    "import seaborn as sns\n",
    "sns.set_style('whitegrid')"
   ]
  },
  {
   "cell_type": "code",
   "execution_count": null,
   "id": "ff9fc55b",
   "metadata": {},
   "outputs": [],
   "source": []
  },
  {
   "cell_type": "code",
   "execution_count": null,
   "id": "99d4ff7c",
   "metadata": {},
   "outputs": [],
   "source": []
  },
  {
   "cell_type": "code",
   "execution_count": null,
   "id": "6e3869e1",
   "metadata": {},
   "outputs": [],
   "source": []
  },
  {
   "cell_type": "markdown",
   "id": "b0f733dd",
   "metadata": {},
   "source": [
    "Vamos a explorar la relación entre las variables"
   ]
  },
  {
   "cell_type": "code",
   "execution_count": null,
   "id": "67e23791",
   "metadata": {},
   "outputs": [],
   "source": []
  },
  {
   "cell_type": "markdown",
   "id": "381fd451",
   "metadata": {},
   "source": [
    "Distribución del precio"
   ]
  },
  {
   "cell_type": "code",
   "execution_count": null,
   "id": "031b21bf",
   "metadata": {},
   "outputs": [],
   "source": []
  },
  {
   "cell_type": "markdown",
   "id": "94bcacb0",
   "metadata": {},
   "source": [
    "Correlación entre variables"
   ]
  },
  {
   "cell_type": "code",
   "execution_count": null,
   "id": "f72a3f55",
   "metadata": {},
   "outputs": [],
   "source": []
  },
  {
   "cell_type": "code",
   "execution_count": null,
   "id": "ddafc6d1",
   "metadata": {},
   "outputs": [],
   "source": []
  },
  {
   "cell_type": "markdown",
   "id": "c7f7e349",
   "metadata": {},
   "source": [
    "## Entrenar un modelo de Regresión Lineal"
   ]
  },
  {
   "cell_type": "markdown",
   "id": "f3301fb4",
   "metadata": {},
   "source": [
    "En primer lugar, dividimos en train y test"
   ]
  },
  {
   "cell_type": "code",
   "execution_count": null,
   "id": "e753b2d0",
   "metadata": {},
   "outputs": [],
   "source": []
  },
  {
   "cell_type": "code",
   "execution_count": null,
   "id": "b1945642",
   "metadata": {},
   "outputs": [],
   "source": []
  },
  {
   "cell_type": "code",
   "execution_count": null,
   "id": "bf5a521d",
   "metadata": {},
   "outputs": [],
   "source": []
  },
  {
   "cell_type": "code",
   "execution_count": null,
   "id": "4904cf81",
   "metadata": {},
   "outputs": [],
   "source": []
  },
  {
   "cell_type": "code",
   "execution_count": null,
   "id": "7056c0b9",
   "metadata": {},
   "outputs": [],
   "source": []
  },
  {
   "cell_type": "code",
   "execution_count": null,
   "id": "ab948610",
   "metadata": {},
   "outputs": [],
   "source": []
  },
  {
   "cell_type": "markdown",
   "id": "7d6ad92d",
   "metadata": {},
   "source": [
    "Analizamos los coeficientes  \n",
    "$y = w_0 + w_1x_1 + w_2x_2 + ...$"
   ]
  },
  {
   "cell_type": "code",
   "execution_count": null,
   "id": "6e75ac50",
   "metadata": {},
   "outputs": [],
   "source": []
  },
  {
   "cell_type": "code",
   "execution_count": null,
   "id": "c90b6a5c",
   "metadata": {},
   "outputs": [],
   "source": []
  },
  {
   "cell_type": "code",
   "execution_count": null,
   "id": "8b9840ed",
   "metadata": {},
   "outputs": [],
   "source": []
  },
  {
   "cell_type": "markdown",
   "id": "ff0730c0",
   "metadata": {},
   "source": [
    "Interpretación de los coeficientes"
   ]
  },
  {
   "cell_type": "markdown",
   "id": "d43ace33",
   "metadata": {},
   "source": [
    "Manteniendo fijos el resto de coeficientes:\n",
    "- Un incremento de 1 unidad en **Avg. Area Income** equivale a un incremento de **21.64 dólares**  \n",
    "- Un incremento de 1 unidad en **Avg. Area House Age** equivale a un incremento de **164,666 dólares**\n",
    "- Un incremento de 1 unidad en **Avg. Area Number of Rooms** equivale a un incremento de **119,624 dólares**\n",
    "- Un incremento de 1 unidad en **Avg. Area Number of Bedrooms** equivale a un incremento de **2,440  dólares**\n",
    "- Un incremento de 1 unidad en **Area Population** equivale a un incremento de **15.27 dólares**"
   ]
  },
  {
   "cell_type": "markdown",
   "id": "2d79d0b5",
   "metadata": {},
   "source": [
    "$Precio = \t21.652206 \\times \\text{Avg. Area Income}+ \n",
    "164666.480722 \\times \\text{Avg. Area House Age} + \n",
    "119624.012232  \\times \\text{Avg. Area Number of Rooms}\t+\n",
    "2440.377611 \\times \\text{Avg. Area Number of Bedrooms}\t+\n",
    "15.270313 \\times \\text{Area Population}$"
   ]
  },
  {
   "cell_type": "markdown",
   "id": "7ff924aa",
   "metadata": {},
   "source": [
    "## Predicciones de nuestro modelo"
   ]
  },
  {
   "cell_type": "code",
   "execution_count": null,
   "id": "096b7477",
   "metadata": {
    "scrolled": true
   },
   "outputs": [],
   "source": []
  },
  {
   "cell_type": "code",
   "execution_count": null,
   "id": "32f15a1a",
   "metadata": {},
   "outputs": [],
   "source": []
  },
  {
   "cell_type": "code",
   "execution_count": null,
   "id": "74a85a45",
   "metadata": {},
   "outputs": [],
   "source": []
  },
  {
   "cell_type": "markdown",
   "id": "fb088755",
   "metadata": {},
   "source": [
    "### Histograma de residuos"
   ]
  },
  {
   "cell_type": "markdown",
   "id": "5ec6fb0e",
   "metadata": {},
   "source": [
    "Pintar un histograma de los residuos y asegurarnos de que siguen una distribución normal. Si no es así, la regresión lineal no es apropiada para este análisis."
   ]
  },
  {
   "cell_type": "code",
   "execution_count": null,
   "id": "95b60541",
   "metadata": {},
   "outputs": [],
   "source": []
  },
  {
   "cell_type": "markdown",
   "id": "5db2ce72",
   "metadata": {},
   "source": [
    "### Métricas de error"
   ]
  },
  {
   "cell_type": "markdown",
   "id": "f9eac46e",
   "metadata": {},
   "source": [
    "- **MAE** (Mean Absolute Error): es el error medio (la más fácil de entender)\n",
    "- **MSE** (Mean Squared Error): es más popular que el MAE ya que penaliza errores grandes\n",
    "- **RMSE** (Root Mean Squared Error): es todavía más popular que el MSE porque está en las mismas unidades que la variable objetivo $y$\n",
    "- **$R^2$** (Coeficiente de determinación): proporción de la varianza total de la variable objetivo explicada por la regresión"
   ]
  },
  {
   "cell_type": "code",
   "execution_count": null,
   "id": "f7cc7624",
   "metadata": {},
   "outputs": [],
   "source": []
  },
  {
   "cell_type": "code",
   "execution_count": null,
   "id": "d93e2bbc",
   "metadata": {},
   "outputs": [],
   "source": []
  },
  {
   "cell_type": "code",
   "execution_count": null,
   "id": "fe204e51",
   "metadata": {},
   "outputs": [],
   "source": []
  },
  {
   "cell_type": "markdown",
   "id": "ba37c7da",
   "metadata": {},
   "source": [
    "## Importancia de variables "
   ]
  },
  {
   "cell_type": "code",
   "execution_count": null,
   "id": "5782c4ac",
   "metadata": {},
   "outputs": [],
   "source": []
  },
  {
   "cell_type": "markdown",
   "id": "6bf1bbee",
   "metadata": {},
   "source": [
    "Una habitación extra incrementa el precio (y) en 2440 dólares, y un dolar extra en area income \n",
    "incrementa el precio en 21 dólares. Esto es el significado de los coeficientes, pero no quiere decir\n",
    "que el número de habitaciones sea más importante/relevante que el area income  \n",
    "\n",
    "Para conocer la importancia de variables tenemos que **estandarizar** los datos antes de entrenar el modelo"
   ]
  },
  {
   "cell_type": "code",
   "execution_count": null,
   "id": "1aa88d49",
   "metadata": {},
   "outputs": [],
   "source": []
  },
  {
   "cell_type": "code",
   "execution_count": null,
   "id": "24412142",
   "metadata": {},
   "outputs": [],
   "source": []
  },
  {
   "cell_type": "code",
   "execution_count": null,
   "id": "4e51f6ef",
   "metadata": {},
   "outputs": [],
   "source": []
  },
  {
   "cell_type": "code",
   "execution_count": null,
   "id": "42d2d555",
   "metadata": {},
   "outputs": [],
   "source": []
  },
  {
   "cell_type": "code",
   "execution_count": null,
   "id": "9796ec8a",
   "metadata": {},
   "outputs": [],
   "source": []
  },
  {
   "cell_type": "markdown",
   "id": "dbecf042",
   "metadata": {},
   "source": [
    "## Regularización"
   ]
  },
  {
   "cell_type": "markdown",
   "id": "5977be61",
   "metadata": {},
   "source": [
    "Proceso que altera ligeramente la formulación matemática de un modelo, con la intención de prevenir el overfitting.\n",
    "Una manera de regularizar puede ser eliminando grados de una regresión polinómica o aplanando los pesos (w).\n",
    "\n",
    "De esta manera simplificamos los modelos para que haya menos overfitting y generalicen mejor. A cambio sufriremos un pequeño aumento en los errores. De nuevo, Bias vs Variance.\n",
    "\n",
    "Se suele aplicar en regresiones lineales y logísticas, pero también existen en otros modelos. Las penalizaciones más populares son:\n",
    "1. L2: consigue que los parámetros estimados por el modelo (w) no tengan (en valor absoluto) un valor demasiado grande, de manera que aplana los pesos y evita los extremos.\n",
    "2. L1: tiende a eliminar los pesos con menor importancia, es como si estuviese realizando un feature selection.\n",
    "\n",
    "\n",
    "Regresiones que utilizan regularización:\n",
    "1. Ridge: utiliza L2\n",
    "2. Lasso: utiliza L1\n",
    "3. Elastic Net: combinación lineal de L1 y L2\n"
   ]
  },
  {
   "attachments": {
    "image.png": {
     "image/png": "[encoded data removed]"
    }
   },
   "cell_type": "markdown",
   "id": "37ebee51",
   "metadata": {},
   "source": [
    "![image.png](attachment:image.png)"
   ]
  },
  {
   "cell_type": "markdown",
   "id": "7f250468",
   "metadata": {},
   "source": [
    "### Ridge Regression"
   ]
  },
  {
   "cell_type": "code",
   "execution_count": null,
   "id": "fbafbf46",
   "metadata": {},
   "outputs": [],
   "source": []
  },
  {
   "cell_type": "code",
   "execution_count": null,
   "id": "a04c2d72",
   "metadata": {},
   "outputs": [],
   "source": []
  },
  {
   "cell_type": "code",
   "execution_count": null,
   "id": "59f1775b",
   "metadata": {},
   "outputs": [],
   "source": []
  },
  {
   "cell_type": "code",
   "execution_count": null,
   "id": "edc6fc27",
   "metadata": {},
   "outputs": [],
   "source": []
  },
  {
   "cell_type": "markdown",
   "id": "08f1b3a0",
   "metadata": {},
   "source": [
    "### Lasso Regression"
   ]
  },
  {
   "cell_type": "code",
   "execution_count": null,
   "id": "ed7247fe",
   "metadata": {},
   "outputs": [],
   "source": []
  },
  {
   "cell_type": "code",
   "execution_count": null,
   "id": "8f6bb280",
   "metadata": {},
   "outputs": [],
   "source": []
  },
  {
   "cell_type": "code",
   "execution_count": null,
   "id": "21fbe93c",
   "metadata": {},
   "outputs": [],
   "source": []
  },
  {
   "cell_type": "markdown",
   "id": "d292eb2f",
   "metadata": {},
   "source": [
    "### Elastic Net"
   ]
  },
  {
   "cell_type": "code",
   "execution_count": null,
   "id": "c5552683",
   "metadata": {},
   "outputs": [],
   "source": []
  },
  {
   "cell_type": "code",
   "execution_count": null,
   "id": "7f41bfd1",
   "metadata": {},
   "outputs": [],
   "source": []
  },
  {
   "cell_type": "code",
   "execution_count": null,
   "id": "71a91bf2",
   "metadata": {},
   "outputs": [],
   "source": []
  }
 ],
 "metadata": {
  "kernelspec": {
   "display_name": "Python 3 (ipykernel)",
   "language": "python",
   "name": "python3"
  },
  "language_info": {
   "codemirror_mode": {
    "name": "ipython",
    "version": 3
   },
   "file_extension": ".py",
   "mimetype": "text/x-python",
   "name": "python",
   "nbconvert_exporter": "python",
   "pygments_lexer": "ipython3",
   "version": "3.10.8"
  }
 },
 "nbformat": 4,
 "nbformat_minor": 5
}
